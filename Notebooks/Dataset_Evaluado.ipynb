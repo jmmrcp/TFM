{
  "nbformat": 4,
  "nbformat_minor": 0,
  "metadata": {
    "colab": {
      "provenance": [],
      "mount_file_id": "1-hGNmalfh6humJAq8uELinoYhjMpjVZ0",
      "authorship_tag": "ABX9TyOh7Ak4bS0Pvd1m1EJdn45r",
      "include_colab_link": true
    },
    "kernelspec": {
      "name": "python3",
      "display_name": "Python 3"
    },
    "language_info": {
      "name": "python"
    }
  },
  "cells": [
    {
      "cell_type": "markdown",
      "metadata": {
        "id": "view-in-github",
        "colab_type": "text"
      },
      "source": [
        "<a href=\"https://colab.research.google.com/github/jmmrcp/TFM/blob/main/Dataset_Evaluado.ipynb\" target=\"_parent\"><img src=\"https://colab.research.google.com/assets/colab-badge.svg\" alt=\"Open In Colab\"/></a>"
      ]
    },
    {
      "cell_type": "code",
      "source": [
        "import pandas as pd\n",
        "import numpy as np\n",
        "from sklearn.model_selection import train_test_split\n",
        "from sklearn.ensemble import RandomForestClassifier\n",
        "import re"
      ],
      "metadata": {
        "id": "y_Bc8GKmMt4U"
      },
      "execution_count": 23,
      "outputs": []
    },
    {
      "cell_type": "code",
      "source": [
        "# Estadísticas basadas en análisis previos\n",
        "LONGITUD_MEDIA_PHISHING = 150\n",
        "LONGITUD_MEDIA_LEGITIMO = 500\n",
        "LONGITUD_MINIMA_LEGITIMO = 300\n",
        "LONGITUD_TOLERANCIA = 100"
      ],
      "metadata": {
        "id": "n8PfhcbkMv0M"
      },
      "execution_count": 24,
      "outputs": []
    },
    {
      "cell_type": "code",
      "source": [
        "def limpiar_mensaje(mensaje):\n",
        "    \"\"\"\n",
        "    Limpia el mensaje de caracteres no deseados y extraños.\n",
        "    :param mensaje: El contenido del correo a limpiar.\n",
        "    :return: Mensaje limpio.\n",
        "    \"\"\"\n",
        "    # Eliminar caracteres no deseados\n",
        "    mensaje = re.sub(r'[^\\x00-\\x7F]+', '', mensaje)  # Elimina caracteres fuera del rango ASCII\n",
        "    mensaje = mensaje.replace('\\n', ' ').replace('\\r', '')  # Reemplaza saltos de línea\n",
        "    return mensaje.strip()  # Elimina espacios en blanco al principio y al final"
      ],
      "metadata": {
        "id": "7x77fOHqOwCT"
      },
      "execution_count": 25,
      "outputs": []
    },
    {
      "cell_type": "code",
      "source": [
        "def seleccionar_mejores_correos(df, num_mejores=500):\n",
        "    \"\"\"\n",
        "    Selecciona los mejores correos de phishing y legítimos y ajusta las etiquetas.\n",
        "\n",
        "    :param df: DataFrame que contiene los correos.\n",
        "    :param num_mejores: Número de correos a seleccionar para cada categoría.\n",
        "    :return: DataFrame con los mejores correos seleccionados y etiquetas ajustadas.\n",
        "    \"\"\"\n",
        "    # Filtrar correos de phishing y legítimos\n",
        "    phishing_emails = df[df['label'] == 1].copy()\n",
        "    legitimate_emails = df[df['label'] == 0].copy()\n",
        "\n",
        "    # Ordenar por probabilidad (de mayor a menor)\n",
        "    phishing_emails.sort_values(by='probabilidad', ascending=False, inplace=True)\n",
        "    legitimate_emails.sort_values(by='probabilidad', ascending=False, inplace=True)\n",
        "\n",
        "    # Seleccionar los mejores 400 de cada categoría\n",
        "    mejores_phishing = phishing_emails.head(num_mejores)\n",
        "    mejores_legitimos = legitimate_emails.head(num_mejores)\n",
        "\n",
        "    # Ajustar las etiquetas usando .loc para evitar SettingWithCopyWarning\n",
        "    mejores_phishing.loc[:, 'label'] = 'phishing'\n",
        "    mejores_legitimos.loc[:, 'label'] = 'legitimate'\n",
        "\n",
        "    # Combinar los dos DataFrames\n",
        "    mejores_correos = pd.concat([mejores_phishing, mejores_legitimos], ignore_index=True)\n",
        "\n",
        "    # Mezclar los registros aleatoriamente\n",
        "    mejores_correos = mejores_correos.sample(frac=1).reset_index(drop=True)\n",
        "\n",
        "    # Seleccionar solo las columnas 'label' y 'message'\n",
        "    mejores_correos = mejores_correos[['label', 'message']]\n",
        "\n",
        "    return mejores_correos"
      ],
      "metadata": {
        "id": "80O5YQivQSIN"
      },
      "execution_count": 26,
      "outputs": []
    },
    {
      "cell_type": "code",
      "source": [
        "def es_calidad_aceptable(mensaje, tipo):\n",
        "    # Validación simple basada en longitud y palabras clave\n",
        "    if not isinstance(mensaje, str):\n",
        "        return False\n",
        "\n",
        "    longitud = len(mensaje)\n",
        "\n",
        "    if tipo == 1:  # Phishing\n",
        "        phishing_keywords = [\"urgent\", \"password\", \"account\", \"click here\", \"verify\", \"bank\", \"login\", \"suspend\", \"update\", \"limited time\"]\n",
        "        if not any(keyword in mensaje.lower() for keyword in phishing_keywords):\n",
        "            return False\n",
        "        if abs(longitud - LONGITUD_MEDIA_PHISHING) > LONGITUD_TOLERANCIA:\n",
        "            return False\n",
        "\n",
        "    elif tipo == 0:  # Legitimate\n",
        "        legitimate_keywords = [\"meeting\", \"schedule\", \"project\", \"report\", \"invoice\", \"team\", \"update\", \"conference\", \"client\", \"feedback\", \"contract\", \"deadline\", \"greetings\", \"thank you\", \"best regards\", \"regards\"]\n",
        "        if not any(keyword in mensaje.lower() for keyword in legitimate_keywords):\n",
        "            return False\n",
        "        if abs(longitud - LONGITUD_MEDIA_LEGITIMO) > LONGITUD_TOLERANCIA:\n",
        "            return False\n",
        "        if longitud < LONGITUD_MINIMA_LEGITIMO:\n",
        "            return False\n",
        "        estructura_legitima = [\"regards\", \"thank you\", \"dear\", \"sincerely\", \"best regards\", \"kind regards\"]\n",
        "        if not any(estructura in mensaje.lower() for estructura in estructura_legitima):\n",
        "            return False\n",
        "    return True"
      ],
      "metadata": {
        "id": "-ONi2J7wMyDb"
      },
      "execution_count": 27,
      "outputs": []
    },
    {
      "cell_type": "code",
      "source": [
        "def entrenar_modelo(df):\n",
        "    \"\"\"\n",
        "    Entrena un modelo RandomForest con el dataset disponible.\n",
        "    :param df: DataFrame con columnas 'message' y 'label'.\n",
        "    :return: Modelo entrenado (RandomForestClassifier).\n",
        "    \"\"\"\n",
        "    # Convertir textos en características simples basadas en longitud y presencia de palabras clave\n",
        "    df['longitud'] = df['message'].apply(len)\n",
        "    df['num_phishing_keywords'] = df['message'].apply(lambda msg: sum([1 for word in [\"urgent\", \"password\", \"account\", \"click here\"] if word in msg.lower()]))\n",
        "    df['num_legitimate_keywords'] = df['message'].apply(lambda msg: sum([1 for word in [\"meeting\", \"schedule\", \"thank you\", \"regards\"] if word in msg.lower()]))\n",
        "\n",
        "    # Preparar características y etiquetas\n",
        "    X = df[['longitud', 'num_phishing_keywords', 'num_legitimate_keywords']]\n",
        "    y = df['label']\n",
        "\n",
        "    # Dividir los datos en entrenamiento y prueba\n",
        "    X_train, X_test, y_train, y_test = train_test_split(X, y, test_size=0.2, random_state=42)\n",
        "\n",
        "    # Entrenar un modelo Random Forest\n",
        "    modelo = RandomForestClassifier(n_estimators=100, random_state=42)\n",
        "    modelo.fit(X_train, y_train)\n",
        "\n",
        "    return modelo"
      ],
      "metadata": {
        "id": "x17b3y9vM7Ce"
      },
      "execution_count": 28,
      "outputs": []
    },
    {
      "cell_type": "code",
      "execution_count": 29,
      "metadata": {
        "id": "oLbNbaDsMpEu"
      },
      "outputs": [],
      "source": [
        "def extraer_mejores_correos(df, modelo, max_por_clase=400):\n",
        "    \"\"\"\n",
        "    Extrae los mejores correos aplicando aleatoriedad y validación con el modelo de clasificación.\n",
        "    :param df: DataFrame con columnas 'message' y 'label'.\n",
        "    :param modelo: Modelo de clasificación entrenado.\n",
        "    :param max_por_clase: Máximo número de correos a seleccionar por clase.\n",
        "    :return: DataFrame con correos balanceados y validados.\n",
        "    \"\"\"\n",
        "    # Filtrar los correos legítimos (label == 0)\n",
        "    legitimate_emails = df[df['label'] == 0]\n",
        "    phishing_emails = df[df['label'] == 1]\n",
        "\n",
        "    # Agregar predicciones de probabilidad del modelo\n",
        "    legitimate_emails['probabilidad'] = modelo.predict_proba(legitimate_emails[['longitud', 'num_phishing_keywords', 'num_legitimate_keywords']])[:, 1]\n",
        "    phishing_emails['probabilidad'] = modelo.predict_proba(phishing_emails[['longitud', 'num_phishing_keywords', 'num_legitimate_keywords']])[:, 1]\n",
        "\n",
        "    # Selección aleatoria controlada (50% aleatorio y 50% basado en probabilidad alta)\n",
        "    legitimate_random = legitimate_emails.sample(frac=0.5)\n",
        "    legitimate_high_quality = legitimate_emails.sort_values(by='probabilidad', ascending=False).head(max_por_clase)\n",
        "\n",
        "    phishing_random = phishing_emails.sample(frac=0.5)\n",
        "    phishing_high_quality = phishing_emails.sort_values(by='probabilidad', ascending=False).head(max_por_clase)\n",
        "\n",
        "    # Unir las selecciones y mezclarlas\n",
        "    dataset_balanceado = pd.concat([legitimate_random, legitimate_high_quality, phishing_random, phishing_high_quality]).sample(frac=1).reset_index(drop=True)\n",
        "\n",
        "    return dataset_balanceado"
      ]
    },
    {
      "cell_type": "code",
      "source": [
        "# Cargar el DataFrame con columnas 'message' y 'label'\n",
        "df = pd.read_csv('/content/drive/MyDrive/DATA/datasets/full.csv')  # Cargar los datos desde un archivo CSV"
      ],
      "metadata": {
        "id": "DJim2guuM-dS"
      },
      "execution_count": 30,
      "outputs": []
    },
    {
      "cell_type": "code",
      "source": [
        "# Entrenar el modelo\n",
        "modelo = entrenar_modelo(df)"
      ],
      "metadata": {
        "id": "t6aecHY2NBJG"
      },
      "execution_count": 31,
      "outputs": []
    },
    {
      "cell_type": "code",
      "source": [
        "# Extraer los mejores correos aplicando aleatoriedad y validación del modelo\n",
        "dataset_balanceado = extraer_mejores_correos(df, modelo, max_por_clase=400)"
      ],
      "metadata": {
        "colab": {
          "base_uri": "https://localhost:8080/"
        },
        "id": "dq5JW2x0NEO2",
        "outputId": "67d23403-58de-4eb4-d308-35878ed8dca2"
      },
      "execution_count": 32,
      "outputs": [
        {
          "output_type": "stream",
          "name": "stderr",
          "text": [
            "<ipython-input-29-96a41153ada9>:14: SettingWithCopyWarning: \n",
            "A value is trying to be set on a copy of a slice from a DataFrame.\n",
            "Try using .loc[row_indexer,col_indexer] = value instead\n",
            "\n",
            "See the caveats in the documentation: https://pandas.pydata.org/pandas-docs/stable/user_guide/indexing.html#returning-a-view-versus-a-copy\n",
            "  legitimate_emails['probabilidad'] = modelo.predict_proba(legitimate_emails[['longitud', 'num_phishing_keywords', 'num_legitimate_keywords']])[:, 1]\n",
            "<ipython-input-29-96a41153ada9>:15: SettingWithCopyWarning: \n",
            "A value is trying to be set on a copy of a slice from a DataFrame.\n",
            "Try using .loc[row_indexer,col_indexer] = value instead\n",
            "\n",
            "See the caveats in the documentation: https://pandas.pydata.org/pandas-docs/stable/user_guide/indexing.html#returning-a-view-versus-a-copy\n",
            "  phishing_emails['probabilidad'] = modelo.predict_proba(phishing_emails[['longitud', 'num_phishing_keywords', 'num_legitimate_keywords']])[:, 1]\n"
          ]
        }
      ]
    },
    {
      "cell_type": "code",
      "source": [
        "# Limpiar los mensajes antes de la validación\n",
        "dataset_balanceado['message'] = dataset_balanceado['message'].apply(limpiar_mensaje)"
      ],
      "metadata": {
        "id": "LXHop3A_O91z"
      },
      "execution_count": 33,
      "outputs": []
    },
    {
      "cell_type": "code",
      "source": [
        "# Mostrar el resultado\n",
        "print(dataset_balanceado)"
      ],
      "metadata": {
        "colab": {
          "base_uri": "https://localhost:8080/"
        },
        "id": "1q-SwKA2V-RE",
        "outputId": "09669294-077d-44b3-af35-1f37b1d5e27b"
      },
      "execution_count": 37,
      "outputs": [
        {
          "output_type": "stream",
          "name": "stdout",
          "text": [
            "        label                                            message  longitud  \\\n",
            "0           1  If you are the one who needs male enhancing, w...       174   \n",
            "1           1  Three Steps to the Software You Need at the Pr...      1977   \n",
            "2           1  CNN.com Daily Top 10 >+=+=+=+=+=+=+=+=+=+=+=+=...      3916   \n",
            "3           0  [DMDX] Clear a picture when a key pressed Dear...       584   \n",
            "4           0  ENW Contact Mgmt #'s   Here it is...  \\t\\t\\t  ...       150   \n",
            "...       ...                                                ...       ...   \n",
            "154495      1  SPECIAL PHARMACY DISCOUNT, you  pay & we ship,...       928   \n",
            "154496      0  svn commit: samba r22722 - in branches/SAMBA_4...       934   \n",
            "154497      0  ijcai95 workshop on context in nlp call for pa...      9664   \n",
            "154498      0  rajko jugxoi340charternet sunday 17 february 2...       991   \n",
            "154499      0  [Spambayes] deleting \"duplicate\" spam before t...       634   \n",
            "\n",
            "        num_phishing_keywords  num_legitimate_keywords  probabilidad  \n",
            "0                           0                        0      0.755661  \n",
            "1                           0                        0      0.370485  \n",
            "2                           0                        0      1.000000  \n",
            "3                           0                        1      0.343956  \n",
            "4                           0                        0      0.685114  \n",
            "...                       ...                      ...           ...  \n",
            "154495                      0                        0      0.328805  \n",
            "154496                      0                        0      0.433733  \n",
            "154497                      1                        1      0.010000  \n",
            "154498                      0                        1      0.182883  \n",
            "154499                      0                        0      0.474992  \n",
            "\n",
            "[154500 rows x 6 columns]\n"
          ]
        }
      ]
    },
    {
      "cell_type": "code",
      "source": [
        "mejores_correos = seleccionar_mejores_correos(dataset_balanceado)"
      ],
      "metadata": {
        "colab": {
          "base_uri": "https://localhost:8080/"
        },
        "id": "XHeSWLdiQXfw",
        "outputId": "73a07ad1-4117-4b49-a515-6bf7a3a75fec"
      },
      "execution_count": 34,
      "outputs": [
        {
          "output_type": "stream",
          "name": "stderr",
          "text": [
            "<ipython-input-26-7c60b4f1a678>:22: FutureWarning: Setting an item of incompatible dtype is deprecated and will raise in a future error of pandas. Value 'phishing' has dtype incompatible with int64, please explicitly cast to a compatible dtype first.\n",
            "  mejores_phishing.loc[:, 'label'] = 'phishing'\n",
            "<ipython-input-26-7c60b4f1a678>:23: FutureWarning: Setting an item of incompatible dtype is deprecated and will raise in a future error of pandas. Value 'legitimate' has dtype incompatible with int64, please explicitly cast to a compatible dtype first.\n",
            "  mejores_legitimos.loc[:, 'label'] = 'legitimate'\n"
          ]
        }
      ]
    },
    {
      "cell_type": "code",
      "source": [
        "# Mostrar el resultado\n",
        "print(mejores_correos)"
      ],
      "metadata": {
        "colab": {
          "base_uri": "https://localhost:8080/"
        },
        "id": "Ci-cLE4PQaeA",
        "outputId": "a13409ac-052a-4b9f-8f2b-6bf91cadb4ad"
      },
      "execution_count": 35,
      "outputs": [
        {
          "output_type": "stream",
          "name": "stdout",
          "text": [
            "          label                                            message\n",
            "0    legitimate  Why spam isn't going away soon    CNET | Secur...\n",
            "1    legitimate  FW: Oct. 25 -- BNA, Inc. Daily Labor Report Us...\n",
            "2      phishing  URGENT RESPONSE NEEDED FROM DR SANI MUSTAPHA, ...\n",
            "3    legitimate  urgent sec disclosure document 8 pm version at...\n",
            "4      phishing  CNN.com Daily Top 10 >+=+=+=+=+=+=+=+=+=+=+=+=...\n",
            "..          ...                                                ...\n",
            "995  legitimate  lockergnome penguin shellsubscriptionslockergn...\n",
            "996  legitimate  Re: Score vs Bars Theo Van Dinter wrote: > On ...\n",
            "997    phishing  HOt penny pick fue|ed by high demand Wysak Pet...\n",
            "998  legitimate  Flushed pending centeris patch queue -----BEGI...\n",
            "999    phishing  Confirmation Email: Link Code inside  We tried...\n",
            "\n",
            "[1000 rows x 2 columns]\n"
          ]
        }
      ]
    },
    {
      "cell_type": "code",
      "source": [
        "# Guardar el DataFrame resultante en un archivo CSV\n",
        "mejores_correos.to_csv('/content/drive/MyDrive/DATA/datasets/Best-1k.csv', index=False)"
      ],
      "metadata": {
        "id": "_t8a8dGtQc98"
      },
      "execution_count": 36,
      "outputs": []
    }
  ]
}