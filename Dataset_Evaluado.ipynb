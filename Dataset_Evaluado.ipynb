{
  "nbformat": 4,
  "nbformat_minor": 0,
  "metadata": {
    "colab": {
      "private_outputs": true,
      "provenance": [],
      "mount_file_id": "1-hGNmalfh6humJAq8uELinoYhjMpjVZ0",
      "authorship_tag": "ABX9TyOh7Ak4bS0Pvd1m1EJdn45r",
      "include_colab_link": true
    },
    "kernelspec": {
      "name": "python3",
      "display_name": "Python 3"
    },
    "language_info": {
      "name": "python"
    }
  },
  "cells": [
    {
      "cell_type": "markdown",
      "metadata": {
        "id": "view-in-github",
        "colab_type": "text"
      },
      "source": [
        "<a href=\"https://colab.research.google.com/github/jmmrcp/TFM/blob/main/Dataset_Evaluado.ipynb\" target=\"_parent\"><img src=\"https://colab.research.google.com/assets/colab-badge.svg\" alt=\"Open In Colab\"/></a>"
      ]
    },
    {
      "cell_type": "code",
      "source": [
        "import pandas as pd\n",
        "import numpy as np\n",
        "from sklearn.model_selection import train_test_split\n",
        "from sklearn.ensemble import RandomForestClassifier\n",
        "import re"
      ],
      "metadata": {
        "id": "y_Bc8GKmMt4U"
      },
      "execution_count": null,
      "outputs": []
    },
    {
      "cell_type": "code",
      "source": [
        "# Estadísticas basadas en análisis previos\n",
        "LONGITUD_MEDIA_PHISHING = 150\n",
        "LONGITUD_MEDIA_LEGITIMO = 500\n",
        "LONGITUD_MINIMA_LEGITIMO = 300\n",
        "LONGITUD_TOLERANCIA = 100"
      ],
      "metadata": {
        "id": "n8PfhcbkMv0M"
      },
      "execution_count": null,
      "outputs": []
    },
    {
      "cell_type": "code",
      "source": [
        "def limpiar_mensaje(mensaje):\n",
        "    \"\"\"\n",
        "    Limpia el mensaje de caracteres no deseados y extraños.\n",
        "    :param mensaje: El contenido del correo a limpiar.\n",
        "    :return: Mensaje limpio.\n",
        "    \"\"\"\n",
        "    # Eliminar caracteres no deseados\n",
        "    mensaje = re.sub(r'[^\\x00-\\x7F]+', '', mensaje)  # Elimina caracteres fuera del rango ASCII\n",
        "    mensaje = mensaje.replace('\\n', ' ').replace('\\r', '')  # Reemplaza saltos de línea\n",
        "    return mensaje.strip()  # Elimina espacios en blanco al principio y al final"
      ],
      "metadata": {
        "id": "7x77fOHqOwCT"
      },
      "execution_count": null,
      "outputs": []
    },
    {
      "cell_type": "code",
      "source": [
        "def seleccionar_mejores_correos(df, num_mejores=500):\n",
        "    \"\"\"\n",
        "    Selecciona los mejores correos de phishing y legítimos y ajusta las etiquetas.\n",
        "\n",
        "    :param df: DataFrame que contiene los correos.\n",
        "    :param num_mejores: Número de correos a seleccionar para cada categoría.\n",
        "    :return: DataFrame con los mejores correos seleccionados y etiquetas ajustadas.\n",
        "    \"\"\"\n",
        "    # Filtrar correos de phishing y legítimos\n",
        "    phishing_emails = df[df['label'] == 1].copy()\n",
        "    legitimate_emails = df[df['label'] == 0].copy()\n",
        "\n",
        "    # Ordenar por probabilidad (de mayor a menor)\n",
        "    phishing_emails.sort_values(by='probabilidad', ascending=False, inplace=True)\n",
        "    legitimate_emails.sort_values(by='probabilidad', ascending=False, inplace=True)\n",
        "\n",
        "    # Seleccionar los mejores 400 de cada categoría\n",
        "    mejores_phishing = phishing_emails.head(num_mejores)\n",
        "    mejores_legitimos = legitimate_emails.head(num_mejores)\n",
        "\n",
        "    # Ajustar las etiquetas usando .loc para evitar SettingWithCopyWarning\n",
        "    mejores_phishing.loc[:, 'label'] = 'phishing'\n",
        "    mejores_legitimos.loc[:, 'label'] = 'legitimate'\n",
        "\n",
        "    # Combinar los dos DataFrames\n",
        "    mejores_correos = pd.concat([mejores_phishing, mejores_legitimos], ignore_index=True)\n",
        "\n",
        "    # Mezclar los registros aleatoriamente\n",
        "    mejores_correos = mejores_correos.sample(frac=1).reset_index(drop=True)\n",
        "\n",
        "    # Seleccionar solo las columnas 'label' y 'message'\n",
        "    mejores_correos = mejores_correos[['label', 'message']]\n",
        "\n",
        "    return mejores_correos"
      ],
      "metadata": {
        "id": "80O5YQivQSIN"
      },
      "execution_count": null,
      "outputs": []
    },
    {
      "cell_type": "code",
      "source": [
        "def es_calidad_aceptable(mensaje, tipo):\n",
        "    # Validación simple basada en longitud y palabras clave\n",
        "    if not isinstance(mensaje, str):\n",
        "        return False\n",
        "\n",
        "    longitud = len(mensaje)\n",
        "\n",
        "    if tipo == 1:  # Phishing\n",
        "        phishing_keywords = [\"urgent\", \"password\", \"account\", \"click here\", \"verify\", \"bank\", \"login\", \"suspend\", \"update\", \"limited time\"]\n",
        "        if not any(keyword in mensaje.lower() for keyword in phishing_keywords):\n",
        "            return False\n",
        "        if abs(longitud - LONGITUD_MEDIA_PHISHING) > LONGITUD_TOLERANCIA:\n",
        "            return False\n",
        "\n",
        "    elif tipo == 0:  # Legitimate\n",
        "        legitimate_keywords = [\"meeting\", \"schedule\", \"project\", \"report\", \"invoice\", \"team\", \"update\", \"conference\", \"client\", \"feedback\", \"contract\", \"deadline\", \"greetings\", \"thank you\", \"best regards\", \"regards\"]\n",
        "        if not any(keyword in mensaje.lower() for keyword in legitimate_keywords):\n",
        "            return False\n",
        "        if abs(longitud - LONGITUD_MEDIA_LEGITIMO) > LONGITUD_TOLERANCIA:\n",
        "            return False\n",
        "        if longitud < LONGITUD_MINIMA_LEGITIMO:\n",
        "            return False\n",
        "        estructura_legitima = [\"regards\", \"thank you\", \"dear\", \"sincerely\", \"best regards\", \"kind regards\"]\n",
        "        if not any(estructura in mensaje.lower() for estructura in estructura_legitima):\n",
        "            return False\n",
        "    return True"
      ],
      "metadata": {
        "id": "-ONi2J7wMyDb"
      },
      "execution_count": null,
      "outputs": []
    },
    {
      "cell_type": "code",
      "source": [
        "def entrenar_modelo(df):\n",
        "    \"\"\"\n",
        "    Entrena un modelo RandomForest con el dataset disponible.\n",
        "    :param df: DataFrame con columnas 'message' y 'label'.\n",
        "    :return: Modelo entrenado (RandomForestClassifier).\n",
        "    \"\"\"\n",
        "    # Convertir textos en características simples basadas en longitud y presencia de palabras clave\n",
        "    df['longitud'] = df['message'].apply(len)\n",
        "    df['num_phishing_keywords'] = df['message'].apply(lambda msg: sum([1 for word in [\"urgent\", \"password\", \"account\", \"click here\"] if word in msg.lower()]))\n",
        "    df['num_legitimate_keywords'] = df['message'].apply(lambda msg: sum([1 for word in [\"meeting\", \"schedule\", \"thank you\", \"regards\"] if word in msg.lower()]))\n",
        "\n",
        "    # Preparar características y etiquetas\n",
        "    X = df[['longitud', 'num_phishing_keywords', 'num_legitimate_keywords']]\n",
        "    y = df['label']\n",
        "\n",
        "    # Dividir los datos en entrenamiento y prueba\n",
        "    X_train, X_test, y_train, y_test = train_test_split(X, y, test_size=0.2, random_state=42)\n",
        "\n",
        "    # Entrenar un modelo Random Forest\n",
        "    modelo = RandomForestClassifier(n_estimators=100, random_state=42)\n",
        "    modelo.fit(X_train, y_train)\n",
        "\n",
        "    return modelo"
      ],
      "metadata": {
        "id": "x17b3y9vM7Ce"
      },
      "execution_count": null,
      "outputs": []
    },
    {
      "cell_type": "code",
      "execution_count": null,
      "metadata": {
        "id": "oLbNbaDsMpEu"
      },
      "outputs": [],
      "source": [
        "def extraer_mejores_correos(df, modelo, max_por_clase=400):\n",
        "    \"\"\"\n",
        "    Extrae los mejores correos aplicando aleatoriedad y validación con el modelo de clasificación.\n",
        "    :param df: DataFrame con columnas 'message' y 'label'.\n",
        "    :param modelo: Modelo de clasificación entrenado.\n",
        "    :param max_por_clase: Máximo número de correos a seleccionar por clase.\n",
        "    :return: DataFrame con correos balanceados y validados.\n",
        "    \"\"\"\n",
        "    # Filtrar los correos legítimos (label == 0)\n",
        "    legitimate_emails = df[df['label'] == 0]\n",
        "    phishing_emails = df[df['label'] == 1]\n",
        "\n",
        "    # Agregar predicciones de probabilidad del modelo\n",
        "    legitimate_emails['probabilidad'] = modelo.predict_proba(legitimate_emails[['longitud', 'num_phishing_keywords', 'num_legitimate_keywords']])[:, 1]\n",
        "    phishing_emails['probabilidad'] = modelo.predict_proba(phishing_emails[['longitud', 'num_phishing_keywords', 'num_legitimate_keywords']])[:, 1]\n",
        "\n",
        "    # Selección aleatoria controlada (50% aleatorio y 50% basado en probabilidad alta)\n",
        "    legitimate_random = legitimate_emails.sample(frac=0.5)\n",
        "    legitimate_high_quality = legitimate_emails.sort_values(by='probabilidad', ascending=False).head(max_por_clase)\n",
        "\n",
        "    phishing_random = phishing_emails.sample(frac=0.5)\n",
        "    phishing_high_quality = phishing_emails.sort_values(by='probabilidad', ascending=False).head(max_por_clase)\n",
        "\n",
        "    # Unir las selecciones y mezclarlas\n",
        "    dataset_balanceado = pd.concat([legitimate_random, legitimate_high_quality, phishing_random, phishing_high_quality]).sample(frac=1).reset_index(drop=True)\n",
        "\n",
        "    return dataset_balanceado"
      ]
    },
    {
      "cell_type": "code",
      "source": [
        "# Cargar el DataFrame con columnas 'message' y 'label'\n",
        "df = pd.read_csv('/content/drive/MyDrive/DATA/datasets/full.csv')  # Cargar los datos desde un archivo CSV"
      ],
      "metadata": {
        "id": "DJim2guuM-dS"
      },
      "execution_count": null,
      "outputs": []
    },
    {
      "cell_type": "code",
      "source": [
        "# Entrenar el modelo\n",
        "modelo = entrenar_modelo(df)"
      ],
      "metadata": {
        "id": "t6aecHY2NBJG"
      },
      "execution_count": null,
      "outputs": []
    },
    {
      "cell_type": "code",
      "source": [
        "# Extraer los mejores correos aplicando aleatoriedad y validación del modelo\n",
        "dataset_balanceado = extraer_mejores_correos(df, modelo, max_por_clase=400)"
      ],
      "metadata": {
        "id": "dq5JW2x0NEO2"
      },
      "execution_count": null,
      "outputs": []
    },
    {
      "cell_type": "code",
      "source": [
        "# Limpiar los mensajes antes de la validación\n",
        "dataset_balanceado['message'] = dataset_balanceado['message'].apply(limpiar_mensaje)"
      ],
      "metadata": {
        "id": "LXHop3A_O91z"
      },
      "execution_count": null,
      "outputs": []
    },
    {
      "cell_type": "code",
      "source": [
        "# Mostrar el resultado\n",
        "print(dataset_balanceado)"
      ],
      "metadata": {
        "id": "1q-SwKA2V-RE"
      },
      "execution_count": null,
      "outputs": []
    },
    {
      "cell_type": "code",
      "source": [
        "mejores_correos = seleccionar_mejores_correos(dataset_balanceado)"
      ],
      "metadata": {
        "id": "XHeSWLdiQXfw"
      },
      "execution_count": null,
      "outputs": []
    },
    {
      "cell_type": "code",
      "source": [
        "# Mostrar el resultado\n",
        "print(mejores_correos)"
      ],
      "metadata": {
        "id": "Ci-cLE4PQaeA"
      },
      "execution_count": null,
      "outputs": []
    },
    {
      "cell_type": "code",
      "source": [
        "# Guardar el DataFrame resultante en un archivo CSV\n",
        "mejores_correos.to_csv('/content/drive/MyDrive/DATA/datasets/Best-1k.csv', index=False)"
      ],
      "metadata": {
        "id": "_t8a8dGtQc98"
      },
      "execution_count": null,
      "outputs": []
    }
  ]
}